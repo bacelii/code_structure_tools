{
 "cells": [
  {
   "cell_type": "code",
   "execution_count": 18,
   "id": "b9a53f4d-c243-4f4d-b82c-c67971952e30",
   "metadata": {},
   "outputs": [],
   "source": [
    "%load_ext autoreload\n",
    "%autoreload 2"
   ]
  },
  {
   "cell_type": "code",
   "execution_count": 19,
   "id": "62ff6088-447b-43eb-8b09-b49b66ac1431",
   "metadata": {},
   "outputs": [],
   "source": [
    "from os import sys\n",
    "sys.path.append(\"../../code_structure_tools/\")"
   ]
  },
  {
   "cell_type": "markdown",
   "id": "25c564d9-ef50-42f7-b1a0-6bb278272e21",
   "metadata": {},
   "source": [
    "# Printing the general namespace"
   ]
  },
  {
   "cell_type": "code",
   "execution_count": 20,
   "id": "0959329a-445d-4b09-87dd-f8a87e440d82",
   "metadata": {},
   "outputs": [],
   "source": [
    "import namespace_utils as nmu\n",
    "builtin_mod = nmu.print_builtin_namepsace()"
   ]
  },
  {
   "cell_type": "code",
   "execution_count": 30,
   "id": "3d171e27-1e81-44ac-937e-7dfb2f23c6ae",
   "metadata": {},
   "outputs": [
    {
     "name": "stdout",
     "output_type": "stream",
     "text": [
      "40\n",
      "new_var = 100000\n",
      "{'x': 10, 'y': 30, 's': 'foo'}\n"
     ]
    }
   ],
   "source": [
    "nmu.print_locals_variables()"
   ]
  },
  {
   "cell_type": "code",
   "execution_count": null,
   "id": "f4c57aba-e087-4abe-84a6-3c539942c3c4",
   "metadata": {
    "scrolled": true
   },
   "outputs": [],
   "source": [
    "builtin_mod"
   ]
  },
  {
   "cell_type": "code",
   "execution_count": null,
   "id": "8b3a1a2e-c080-4645-8bee-4de3fa053931",
   "metadata": {},
   "outputs": [],
   "source": [
    "ipynb_builtin = __builtins__\n",
    "ipynb_builtin"
   ]
  },
  {
   "cell_type": "code",
   "execution_count": null,
   "id": "b7997b88-5590-435d-baad-fd4aab60f478",
   "metadata": {},
   "outputs": [],
   "source": [
    "# will issue an error\n",
    "\n",
    "def print_var():\n",
    "    print(x)\n",
    "\n",
    "def my_func():\n",
    "    x = 10\n",
    "    print_var()\n",
    "    return x\n",
    "\n",
    "my_func()"
   ]
  },
  {
   "cell_type": "code",
   "execution_count": 14,
   "id": "dfa1ea61-54bd-48d3-aca9-d37de6e2c13f",
   "metadata": {},
   "outputs": [
    {
     "name": "stdout",
     "output_type": "stream",
     "text": [
      "10\n",
      "40\n",
      "another one\n"
     ]
    },
    {
     "data": {
      "text/plain": [
       "10"
      ]
     },
     "execution_count": 14,
     "metadata": {},
     "output_type": "execute_result"
    }
   ],
   "source": [
    "#  will NOT issue an error\n",
    "def another_func():\n",
    "    print(\"another one\")\n",
    "\n",
    "def my_func():\n",
    "    x = 10\n",
    "\n",
    "    def print_var():\n",
    "        def deeper_func():\n",
    "            print(x)\n",
    "            print(y)\n",
    "            another_func()\n",
    "\n",
    "        deeper_func()\n",
    "    y = 40\n",
    "    print_var()\n",
    "    #deeper_func()\n",
    "    return x\n",
    "\n",
    "my_func()"
   ]
  },
  {
   "cell_type": "code",
   "execution_count": 10,
   "id": "e871a597-c42b-4ddc-b2aa-bf5b9c5ff5d7",
   "metadata": {},
   "outputs": [],
   "source": [
    "class Outer:\n",
    "    class Inner:\n",
    "        pass\n",
    "\n",
    "    def __init__(self):\n",
    "        self.inner_obj = self.Inner()"
   ]
  },
  {
   "cell_type": "code",
   "execution_count": 12,
   "id": "8eb0fc82-fd55-44fe-94ee-acd5ff1c0adb",
   "metadata": {},
   "outputs": [
    {
     "data": {
      "text/plain": [
       "<__main__.Outer.Inner at 0x7fdd140f8e20>"
      ]
     },
     "execution_count": 12,
     "metadata": {},
     "output_type": "execute_result"
    }
   ],
   "source": [
    "Outer().inner_obj"
   ]
  },
  {
   "cell_type": "code",
   "execution_count": 34,
   "id": "aa9262f6-3cc2-4088-8f74-128c44cde058",
   "metadata": {},
   "outputs": [
    {
     "name": "stdout",
     "output_type": "stream",
     "text": [
      "-1\n"
     ]
    },
    {
     "name": "stderr",
     "output_type": "stream",
     "text": [
      "[autoreload of namespace_utils failed: Traceback (most recent call last):\n",
      "  File \"/usr/local/lib/python3.8/dist-packages/IPython/extensions/autoreload.py\", line 273, in check\n",
      "    superreload(m, reload, self.old_objects)\n",
      "  File \"/usr/local/lib/python3.8/dist-packages/IPython/extensions/autoreload.py\", line 471, in superreload\n",
      "    module = reload(module)\n",
      "  File \"/usr/lib/python3.8/importlib/__init__.py\", line 169, in reload\n",
      "    _bootstrap._exec(spec, module)\n",
      "  File \"<frozen importlib._bootstrap>\", line 604, in _exec\n",
      "  File \"<frozen importlib._bootstrap_external>\", line 779, in exec_module\n",
      "  File \"<frozen importlib._bootstrap_external>\", line 916, in get_code\n",
      "  File \"<frozen importlib._bootstrap_external>\", line 846, in source_to_code\n",
      "  File \"<frozen importlib._bootstrap>\", line 219, in _call_with_frames_removed\n",
      "  File \"../../code_structure_tools/namespace_utils.py\", line 104\n",
      "    nonlocal x\n",
      "    ^\n",
      "SyntaxError: no binding for nonlocal 'x' found\n",
      "]\n"
     ]
    }
   ],
   "source": [
    "nmu.non_local_keyword_example()"
   ]
  },
  {
   "cell_type": "code",
   "execution_count": 16,
   "id": "e0bd8883-9586-49e8-ad70-233e3bb2ace0",
   "metadata": {},
   "outputs": [
    {
     "data": {
      "text/plain": [
       "dict_keys(['__name__', '__doc__', '__package__', '__loader__', '__spec__', '__builtin__', '__builtins__', '_ih', '_oh', '_dh', 'In', 'Out', 'get_ipython', 'exit', 'quit', 'open', '_', '__', '___', '__session__', '_i', '_ii', '_iii', '_i1', 'my_func', '_1', '_i2', '_i3', 'another_func', '_i4', '_4', '_i5', '_5', '_i6', 'Outer', '_i7', '_7', '_i8', '_i9', '_i10', '_i11', '_11', '_i12', '_12', '_i13', '_13', '_i14', '_14', '_i15', '_15', '_i16'])"
      ]
     },
     "execution_count": 16,
     "metadata": {},
     "output_type": "execute_result"
    }
   ],
   "source": [
    "globals().keys()"
   ]
  },
  {
   "cell_type": "code",
   "execution_count": 36,
   "id": "e5205690-2de7-4773-8f5b-8ea1c7ccdd21",
   "metadata": {},
   "outputs": [],
   "source": [
    "import module_test as mt"
   ]
  },
  {
   "cell_type": "code",
   "execution_count": 40,
   "id": "b33a6180-5550-4873-a6b8-78baa1c85bda",
   "metadata": {},
   "outputs": [
    {
     "data": {
      "text/plain": [
       "20"
      ]
     },
     "execution_count": 40,
     "metadata": {},
     "output_type": "execute_result"
    }
   ],
   "source": [
    "mt.my_attribute"
   ]
  },
  {
   "cell_type": "code",
   "execution_count": 38,
   "id": "43281f10-daab-44d0-9a13-653a8d1984be",
   "metadata": {},
   "outputs": [],
   "source": [
    "x = mt.my_attribute"
   ]
  },
  {
   "cell_type": "code",
   "execution_count": 41,
   "id": "affb8e7d-1f13-4be0-9f59-da50bc52a878",
   "metadata": {},
   "outputs": [
    {
     "data": {
      "text/plain": [
       "10"
      ]
     },
     "execution_count": 41,
     "metadata": {},
     "output_type": "execute_result"
    }
   ],
   "source": [
    "x"
   ]
  },
  {
   "cell_type": "code",
   "execution_count": 45,
   "id": "52fea725-512c-45bc-9221-5e0ea2a70670",
   "metadata": {},
   "outputs": [
    {
     "data": {
      "text/plain": [
       "\u001b[0;31mSignature:\u001b[0m      \u001b[0mx\u001b[0m\u001b[0;34m.\u001b[0m\u001b[0m__ne__\u001b[0m\u001b[0;34m(\u001b[0m\u001b[0mvalue\u001b[0m\u001b[0;34m,\u001b[0m \u001b[0;34m/\u001b[0m\u001b[0;34m)\u001b[0m\u001b[0;34m\u001b[0m\u001b[0;34m\u001b[0m\u001b[0m\n",
       "\u001b[0;31mCall signature:\u001b[0m \u001b[0mx\u001b[0m\u001b[0;34m.\u001b[0m\u001b[0m__ne__\u001b[0m\u001b[0;34m(\u001b[0m\u001b[0;34m*\u001b[0m\u001b[0margs\u001b[0m\u001b[0;34m,\u001b[0m \u001b[0;34m**\u001b[0m\u001b[0mkwargs\u001b[0m\u001b[0;34m)\u001b[0m\u001b[0;34m\u001b[0m\u001b[0;34m\u001b[0m\u001b[0m\n",
       "\u001b[0;31mType:\u001b[0m           method-wrapper\n",
       "\u001b[0;31mString form:\u001b[0m    <method-wrapper '__ne__' of int object at 0xaf1d40>\n",
       "\u001b[0;31mDocstring:\u001b[0m      Return self!=value."
      ]
     },
     "metadata": {},
     "output_type": "display_data"
    }
   ],
   "source": [
    "x = 5\n",
    "x.__ne__??"
   ]
  },
  {
   "cell_type": "code",
   "execution_count": 46,
   "id": "a23530d6-e842-4499-a29b-655f34e76755",
   "metadata": {},
   "outputs": [],
   "source": [
    "def myfunc():\n",
    "    print('hi')"
   ]
  },
  {
   "cell_type": "code",
   "execution_count": 47,
   "id": "b060cdc8-e4a6-4536-9f67-3835beea0d35",
   "metadata": {},
   "outputs": [
    {
     "data": {
      "text/plain": [
       "['__annotations__',\n",
       " '__call__',\n",
       " '__class__',\n",
       " '__closure__',\n",
       " '__code__',\n",
       " '__defaults__',\n",
       " '__delattr__',\n",
       " '__dict__',\n",
       " '__dir__',\n",
       " '__doc__',\n",
       " '__eq__',\n",
       " '__format__',\n",
       " '__ge__',\n",
       " '__get__',\n",
       " '__getattribute__',\n",
       " '__globals__',\n",
       " '__gt__',\n",
       " '__hash__',\n",
       " '__init__',\n",
       " '__init_subclass__',\n",
       " '__kwdefaults__',\n",
       " '__le__',\n",
       " '__lt__',\n",
       " '__module__',\n",
       " '__name__',\n",
       " '__ne__',\n",
       " '__new__',\n",
       " '__qualname__',\n",
       " '__reduce__',\n",
       " '__reduce_ex__',\n",
       " '__repr__',\n",
       " '__setattr__',\n",
       " '__sizeof__',\n",
       " '__str__',\n",
       " '__subclasshook__']"
      ]
     },
     "execution_count": 47,
     "metadata": {},
     "output_type": "execute_result"
    }
   ],
   "source": [
    "dir(myfunc)"
   ]
  },
  {
   "cell_type": "code",
   "execution_count": 51,
   "id": "6250bdb6-521d-4fdf-901d-a1aaff52e45e",
   "metadata": {},
   "outputs": [
    {
     "data": {
      "text/plain": [
       "\u001b[0;31mSignature:\u001b[0m   \u001b[0mmyfunc\u001b[0m\u001b[0;34m.\u001b[0m\u001b[0m__call__\u001b[0m\u001b[0;34m(\u001b[0m\u001b[0;34m*\u001b[0m\u001b[0margs\u001b[0m\u001b[0;34m,\u001b[0m \u001b[0;34m**\u001b[0m\u001b[0mkwargs\u001b[0m\u001b[0;34m)\u001b[0m\u001b[0;34m\u001b[0m\u001b[0;34m\u001b[0m\u001b[0m\n",
       "\u001b[0;31mType:\u001b[0m        method-wrapper\n",
       "\u001b[0;31mString form:\u001b[0m <method-wrapper '__call__' of function object at 0x7fdd05173b80>\n",
       "\u001b[0;31mDocstring:\u001b[0m   Call self as a function."
      ]
     },
     "metadata": {},
     "output_type": "display_data"
    }
   ],
   "source": []
  },
  {
   "cell_type": "code",
   "execution_count": 52,
   "id": "20b029c6-50c3-4fd3-ba78-c68092d4e7b9",
   "metadata": {},
   "outputs": [],
   "source": [
    "x = 5"
   ]
  },
  {
   "cell_type": "code",
   "execution_count": 59,
   "id": "7345f52e-bedd-4cce-9103-e41f08b9c354",
   "metadata": {},
   "outputs": [
    {
     "name": "stdout",
     "output_type": "stream",
     "text": [
      "__abs__ = <method-wrapper '__abs__' of int object at 0xaf1d40>\n",
      "  x.__abs__() = 5\n",
      "__add__ = <method-wrapper '__add__' of int object at 0xaf1d40>\n",
      "__and__ = <method-wrapper '__and__' of int object at 0xaf1d40>\n",
      "__bool__ = <method-wrapper '__bool__' of int object at 0xaf1d40>\n",
      "  x.__bool__() = True\n",
      "__ceil__ = <built-in method __ceil__ of int object at 0xaf1d40>\n",
      "  x.__ceil__() = 5\n",
      "__class__ = <class 'int'>\n",
      "  x.__class__() = 0\n",
      "__delattr__ = <method-wrapper '__delattr__' of int object at 0xaf1d40>\n",
      "__dir__ = <built-in method __dir__ of int object at 0xaf1d40>\n",
      "  x.__dir__() = ['__repr__', '__hash__', '__getattribute__', '__lt__', '__le__', '__eq__', '__ne__', '__gt__', '__ge__', '__add__', '__radd__', '__sub__', '__rsub__', '__mul__', '__rmul__', '__mod__', '__rmod__', '__divmod__', '__rdivmod__', '__pow__', '__rpow__', '__neg__', '__pos__', '__abs__', '__bool__', '__invert__', '__lshift__', '__rlshift__', '__rshift__', '__rrshift__', '__and__', '__rand__', '__xor__', '__rxor__', '__or__', '__ror__', '__int__', '__float__', '__floordiv__', '__rfloordiv__', '__truediv__', '__rtruediv__', '__index__', '__new__', 'conjugate', 'bit_length', 'to_bytes', 'from_bytes', 'as_integer_ratio', '__trunc__', '__floor__', '__ceil__', '__round__', '__getnewargs__', '__format__', '__sizeof__', 'real', 'imag', 'numerator', 'denominator', '__doc__', '__str__', '__setattr__', '__delattr__', '__init__', '__reduce_ex__', '__reduce__', '__subclasshook__', '__init_subclass__', '__dir__', '__class__']\n",
      "__divmod__ = <method-wrapper '__divmod__' of int object at 0xaf1d40>\n",
      "__doc__ = int([x]) -> integer\n",
      "int(x, base=10) -> integer\n",
      "\n",
      "Convert a number or string to an integer, or return 0 if no arguments\n",
      "are given.  If x is a number, return x.__int__().  For floating point\n",
      "numbers, this truncates towards zero.\n",
      "\n",
      "If x is not a number or if base is given, then x must be a string,\n",
      "bytes, or bytearray instance representing an integer literal in the\n",
      "given base.  The literal can be preceded by '+' or '-' and be surrounded\n",
      "by whitespace.  The base defaults to 10.  Valid bases are 0 and 2-36.\n",
      "Base 0 means to interpret the base from the string as an integer literal.\n",
      ">>> int('0b100', base=0)\n",
      "4\n",
      "__eq__ = <method-wrapper '__eq__' of int object at 0xaf1d40>\n",
      "__float__ = <method-wrapper '__float__' of int object at 0xaf1d40>\n",
      "  x.__float__() = 5.0\n",
      "__floor__ = <built-in method __floor__ of int object at 0xaf1d40>\n",
      "  x.__floor__() = 5\n",
      "__floordiv__ = <method-wrapper '__floordiv__' of int object at 0xaf1d40>\n",
      "__format__ = <built-in method __format__ of int object at 0xaf1d40>\n",
      "__ge__ = <method-wrapper '__ge__' of int object at 0xaf1d40>\n",
      "__getattribute__ = <method-wrapper '__getattribute__' of int object at 0xaf1d40>\n",
      "__getnewargs__ = <built-in method __getnewargs__ of int object at 0xaf1d40>\n",
      "  x.__getnewargs__() = (5,)\n",
      "__gt__ = <method-wrapper '__gt__' of int object at 0xaf1d40>\n",
      "__hash__ = <method-wrapper '__hash__' of int object at 0xaf1d40>\n",
      "  x.__hash__() = 5\n",
      "__index__ = <method-wrapper '__index__' of int object at 0xaf1d40>\n",
      "  x.__index__() = 5\n",
      "__init__ = <method-wrapper '__init__' of int object at 0xaf1d40>\n",
      "  x.__init__() = None\n",
      "__init_subclass__ = <built-in method __init_subclass__ of type object at 0xabfc80>\n",
      "  x.__init_subclass__() = None\n",
      "__int__ = <method-wrapper '__int__' of int object at 0xaf1d40>\n",
      "  x.__int__() = 5\n",
      "__invert__ = <method-wrapper '__invert__' of int object at 0xaf1d40>\n",
      "  x.__invert__() = -6\n",
      "__le__ = <method-wrapper '__le__' of int object at 0xaf1d40>\n",
      "__lshift__ = <method-wrapper '__lshift__' of int object at 0xaf1d40>\n",
      "__lt__ = <method-wrapper '__lt__' of int object at 0xaf1d40>\n",
      "__mod__ = <method-wrapper '__mod__' of int object at 0xaf1d40>\n",
      "__mul__ = <method-wrapper '__mul__' of int object at 0xaf1d40>\n",
      "__ne__ = <method-wrapper '__ne__' of int object at 0xaf1d40>\n",
      "__neg__ = <method-wrapper '__neg__' of int object at 0xaf1d40>\n",
      "  x.__neg__() = -5\n",
      "__new__ = <built-in method __new__ of type object at 0xabfc80>\n",
      "__or__ = <method-wrapper '__or__' of int object at 0xaf1d40>\n",
      "__pos__ = <method-wrapper '__pos__' of int object at 0xaf1d40>\n",
      "  x.__pos__() = 5\n",
      "__pow__ = <method-wrapper '__pow__' of int object at 0xaf1d40>\n",
      "__radd__ = <method-wrapper '__radd__' of int object at 0xaf1d40>\n",
      "__rand__ = <method-wrapper '__rand__' of int object at 0xaf1d40>\n",
      "__rdivmod__ = <method-wrapper '__rdivmod__' of int object at 0xaf1d40>\n",
      "__reduce__ = <built-in method __reduce__ of int object at 0xaf1d40>\n",
      "__reduce_ex__ = <built-in method __reduce_ex__ of int object at 0xaf1d40>\n",
      "__repr__ = <method-wrapper '__repr__' of int object at 0xaf1d40>\n",
      "  x.__repr__() = 5\n",
      "__rfloordiv__ = <method-wrapper '__rfloordiv__' of int object at 0xaf1d40>\n",
      "__rlshift__ = <method-wrapper '__rlshift__' of int object at 0xaf1d40>\n",
      "__rmod__ = <method-wrapper '__rmod__' of int object at 0xaf1d40>\n",
      "__rmul__ = <method-wrapper '__rmul__' of int object at 0xaf1d40>\n",
      "__ror__ = <method-wrapper '__ror__' of int object at 0xaf1d40>\n",
      "__round__ = <built-in method __round__ of int object at 0xaf1d40>\n",
      "  x.__round__() = 5\n",
      "__rpow__ = <method-wrapper '__rpow__' of int object at 0xaf1d40>\n",
      "__rrshift__ = <method-wrapper '__rrshift__' of int object at 0xaf1d40>\n",
      "__rshift__ = <method-wrapper '__rshift__' of int object at 0xaf1d40>\n",
      "__rsub__ = <method-wrapper '__rsub__' of int object at 0xaf1d40>\n",
      "__rtruediv__ = <method-wrapper '__rtruediv__' of int object at 0xaf1d40>\n",
      "__rxor__ = <method-wrapper '__rxor__' of int object at 0xaf1d40>\n",
      "__setattr__ = <method-wrapper '__setattr__' of int object at 0xaf1d40>\n",
      "__sizeof__ = <built-in method __sizeof__ of int object at 0xaf1d40>\n",
      "  x.__sizeof__() = 28\n",
      "__str__ = <method-wrapper '__str__' of int object at 0xaf1d40>\n",
      "  x.__str__() = 5\n",
      "__sub__ = <method-wrapper '__sub__' of int object at 0xaf1d40>\n",
      "__subclasshook__ = <built-in method __subclasshook__ of type object at 0xabfc80>\n",
      "  x.__subclasshook__() = NotImplemented\n",
      "__truediv__ = <method-wrapper '__truediv__' of int object at 0xaf1d40>\n",
      "__trunc__ = <built-in method __trunc__ of int object at 0xaf1d40>\n",
      "  x.__trunc__() = 5\n",
      "__xor__ = <method-wrapper '__xor__' of int object at 0xaf1d40>\n",
      "as_integer_ratio = <built-in method as_integer_ratio of int object at 0xaf1d40>\n",
      "  x.as_integer_ratio() = (5, 1)\n",
      "bit_length = <built-in method bit_length of int object at 0xaf1d40>\n",
      "  x.bit_length() = 3\n",
      "conjugate = <built-in method conjugate of int object at 0xaf1d40>\n",
      "  x.conjugate() = 5\n",
      "denominator = 1\n",
      "from_bytes = <built-in method from_bytes of type object at 0xabfc80>\n",
      "imag = 0\n",
      "numerator = 5\n",
      "real = 5\n",
      "to_bytes = <built-in method to_bytes of int object at 0xaf1d40>\n"
     ]
    }
   ],
   "source": [
    "for att in dir(x):\n",
    "    print(f\"{att} = {getattr(x,att)}\")\n",
    "    try:\n",
    "        print(f\"  x.{att}() = {getattr(x,att)()}\")\n",
    "    except:\n",
    "        pass"
   ]
  },
  {
   "cell_type": "code",
   "execution_count": 60,
   "id": "fafef3e6-f534-4fd6-a533-e416233b87e1",
   "metadata": {},
   "outputs": [
    {
     "ename": "AttributeError",
     "evalue": "'int' object has no attribute '__code__'",
     "output_type": "error",
     "traceback": [
      "\u001b[0;31m---------------------------------------------------------------------------\u001b[0m",
      "\u001b[0;31mAttributeError\u001b[0m                            Traceback (most recent call last)",
      "Cell \u001b[0;32mIn[60], line 1\u001b[0m\n\u001b[0;32m----> 1\u001b[0m \u001b[43mx\u001b[49m\u001b[38;5;241;43m.\u001b[39;49m\u001b[38;5;18;43m__code__\u001b[39;49m\n",
      "\u001b[0;31mAttributeError\u001b[0m: 'int' object has no attribute '__code__'"
     ]
    }
   ],
   "source": [
    "x.__code__"
   ]
  },
  {
   "cell_type": "code",
   "execution_count": 61,
   "id": "c9b8b322-c6c8-4441-b857-c22f9050b060",
   "metadata": {},
   "outputs": [
    {
     "data": {
      "text/plain": [
       "<code object myfunc at 0x7fdd0509c2f0, file \"/tmp/ipykernel_151/2512561034.py\", line 1>"
      ]
     },
     "execution_count": 61,
     "metadata": {},
     "output_type": "execute_result"
    }
   ],
   "source": [
    "def myfunc():\n",
    "    print(\"hi\")\n",
    "\n",
    "myfunc.__code__"
   ]
  },
  {
   "cell_type": "code",
   "execution_count": 70,
   "id": "f37514a4-8f0f-4f08-8a54-780348fd92c6",
   "metadata": {},
   "outputs": [
    {
     "data": {
      "text/plain": [
       "['__annotations__',\n",
       " '__call__',\n",
       " '__class__',\n",
       " '__closure__',\n",
       " '__code__',\n",
       " '__defaults__',\n",
       " '__delattr__',\n",
       " '__dict__',\n",
       " '__dir__',\n",
       " '__doc__',\n",
       " '__eq__',\n",
       " '__format__',\n",
       " '__ge__',\n",
       " '__get__',\n",
       " '__getattribute__',\n",
       " '__globals__',\n",
       " '__gt__',\n",
       " '__hash__',\n",
       " '__init__',\n",
       " '__init_subclass__',\n",
       " '__kwdefaults__',\n",
       " '__le__',\n",
       " '__lt__',\n",
       " '__module__',\n",
       " '__name__',\n",
       " '__ne__',\n",
       " '__new__',\n",
       " '__qualname__',\n",
       " '__reduce__',\n",
       " '__reduce_ex__',\n",
       " '__repr__',\n",
       " '__setattr__',\n",
       " '__sizeof__',\n",
       " '__str__',\n",
       " '__subclasshook__']"
      ]
     },
     "execution_count": 70,
     "metadata": {},
     "output_type": "execute_result"
    }
   ],
   "source": [
    "dir(myfunc)#.__code__)"
   ]
  },
  {
   "cell_type": "code",
   "execution_count": 71,
   "id": "c41b7ed8-df47-4fa4-b936-2afa7e2775e2",
   "metadata": {},
   "outputs": [
    {
     "name": "stdout",
     "output_type": "stream",
     "text": [
      "hi\n"
     ]
    }
   ],
   "source": [
    "class MyClass:\n",
    "    print('hi')\n",
    "    def __init__(self):\n",
    "        self.x = 10\n",
    "\n"
   ]
  },
  {
   "cell_type": "code",
   "execution_count": 78,
   "id": "0f21fc95-1082-4ca6-8b9a-6f2662c8e49a",
   "metadata": {},
   "outputs": [
    {
     "name": "stdout",
     "output_type": "stream",
     "text": [
      "hi\n",
      "80\n"
     ]
    }
   ],
   "source": [
    "import module_test as mt\n",
    "mt.new_func()"
   ]
  },
  {
   "cell_type": "code",
   "execution_count": 77,
   "id": "e5094fca-dda3-488f-a109-5f62615be493",
   "metadata": {},
   "outputs": [],
   "source": [
    "mt.my_attribute = 80"
   ]
  },
  {
   "cell_type": "code",
   "execution_count": 79,
   "id": "8d224dd2-d5b5-4b59-b86e-169673a3c620",
   "metadata": {},
   "outputs": [
    {
     "data": {
      "text/plain": [
       "type"
      ]
     },
     "execution_count": 79,
     "metadata": {},
     "output_type": "execute_result"
    }
   ],
   "source": [
    "MyClass.__class__"
   ]
  },
  {
   "cell_type": "code",
   "execution_count": 81,
   "id": "99a8d4f2-049a-4de0-82a6-169bc555a8f4",
   "metadata": {},
   "outputs": [
    {
     "ename": "TypeError",
     "evalue": "__class__ must be set to a class, not 'str' object",
     "output_type": "error",
     "traceback": [
      "\u001b[0;31m---------------------------------------------------------------------------\u001b[0m",
      "\u001b[0;31mTypeError\u001b[0m                                 Traceback (most recent call last)",
      "Cell \u001b[0;32mIn[81], line 1\u001b[0m\n\u001b[0;32m----> 1\u001b[0m \u001b[43mMyClass\u001b[49m\u001b[43m(\u001b[49m\u001b[43m)\u001b[49m\u001b[38;5;241;43m.\u001b[39;49m\u001b[38;5;18;43m__class__\u001b[39;49m \u001b[38;5;241m=\u001b[39m \u001b[38;5;124m\"\u001b[39m\u001b[38;5;124mhi\u001b[39m\u001b[38;5;124m\"\u001b[39m\n",
      "\u001b[0;31mTypeError\u001b[0m: __class__ must be set to a class, not 'str' object"
     ]
    }
   ],
   "source": [
    "MyClass().__class__ = "
   ]
  },
  {
   "cell_type": "code",
   "execution_count": 87,
   "id": "b7d21c41-1e19-4c65-b92e-461f93605d19",
   "metadata": {},
   "outputs": [
    {
     "data": {
      "text/plain": [
       "['ArithmeticError',\n",
       " 'AssertionError',\n",
       " 'AttributeError',\n",
       " 'BaseException',\n",
       " 'BlockingIOError',\n",
       " 'BrokenPipeError',\n",
       " 'BufferError',\n",
       " 'BytesWarning',\n",
       " 'ChildProcessError',\n",
       " 'ConnectionAbortedError',\n",
       " 'ConnectionError',\n",
       " 'ConnectionRefusedError',\n",
       " 'ConnectionResetError',\n",
       " 'DeprecationWarning',\n",
       " 'EOFError',\n",
       " 'Ellipsis',\n",
       " 'EnvironmentError',\n",
       " 'Exception',\n",
       " 'False',\n",
       " 'FileExistsError',\n",
       " 'FileNotFoundError',\n",
       " 'FloatingPointError',\n",
       " 'FutureWarning',\n",
       " 'GeneratorExit',\n",
       " 'IOError',\n",
       " 'ImportError',\n",
       " 'ImportWarning',\n",
       " 'IndentationError',\n",
       " 'IndexError',\n",
       " 'InterruptedError',\n",
       " 'IsADirectoryError',\n",
       " 'KeyError',\n",
       " 'KeyboardInterrupt',\n",
       " 'LookupError',\n",
       " 'MemoryError',\n",
       " 'ModuleNotFoundError',\n",
       " 'NameError',\n",
       " 'None',\n",
       " 'NotADirectoryError',\n",
       " 'NotImplemented',\n",
       " 'NotImplementedError',\n",
       " 'OSError',\n",
       " 'OverflowError',\n",
       " 'PendingDeprecationWarning',\n",
       " 'PermissionError',\n",
       " 'ProcessLookupError',\n",
       " 'RecursionError',\n",
       " 'ReferenceError',\n",
       " 'ResourceWarning',\n",
       " 'RuntimeError',\n",
       " 'RuntimeWarning',\n",
       " 'StopAsyncIteration',\n",
       " 'StopIteration',\n",
       " 'SyntaxError',\n",
       " 'SyntaxWarning',\n",
       " 'SystemError',\n",
       " 'SystemExit',\n",
       " 'TabError',\n",
       " 'TimeoutError',\n",
       " 'True',\n",
       " 'TypeError',\n",
       " 'UnboundLocalError',\n",
       " 'UnicodeDecodeError',\n",
       " 'UnicodeEncodeError',\n",
       " 'UnicodeError',\n",
       " 'UnicodeTranslateError',\n",
       " 'UnicodeWarning',\n",
       " 'UserWarning',\n",
       " 'ValueError',\n",
       " 'Warning',\n",
       " 'ZeroDivisionError',\n",
       " '__IPYTHON__',\n",
       " '__build_class__',\n",
       " '__debug__',\n",
       " '__doc__',\n",
       " '__import__',\n",
       " '__loader__',\n",
       " '__name__',\n",
       " '__package__',\n",
       " '__spec__',\n",
       " 'abs',\n",
       " 'all',\n",
       " 'any',\n",
       " 'ascii',\n",
       " 'bin',\n",
       " 'bool',\n",
       " 'breakpoint',\n",
       " 'bytearray',\n",
       " 'bytes',\n",
       " 'callable',\n",
       " 'chr',\n",
       " 'classmethod',\n",
       " 'compile',\n",
       " 'complex',\n",
       " 'copyright',\n",
       " 'credits',\n",
       " 'delattr',\n",
       " 'dict',\n",
       " 'dir',\n",
       " 'display',\n",
       " 'divmod',\n",
       " 'enumerate',\n",
       " 'eval',\n",
       " 'exec',\n",
       " 'execfile',\n",
       " 'filter',\n",
       " 'float',\n",
       " 'format',\n",
       " 'frozenset',\n",
       " 'get_ipython',\n",
       " 'getattr',\n",
       " 'globals',\n",
       " 'hasattr',\n",
       " 'hash',\n",
       " 'help',\n",
       " 'hex',\n",
       " 'id',\n",
       " 'input',\n",
       " 'int',\n",
       " 'isinstance',\n",
       " 'issubclass',\n",
       " 'iter',\n",
       " 'len',\n",
       " 'license',\n",
       " 'list',\n",
       " 'locals',\n",
       " 'map',\n",
       " 'max',\n",
       " 'memoryview',\n",
       " 'min',\n",
       " 'next',\n",
       " 'object',\n",
       " 'oct',\n",
       " 'open',\n",
       " 'ord',\n",
       " 'pow',\n",
       " 'print',\n",
       " 'property',\n",
       " 'range',\n",
       " 'repr',\n",
       " 'reversed',\n",
       " 'round',\n",
       " 'runfile',\n",
       " 'set',\n",
       " 'setattr',\n",
       " 'slice',\n",
       " 'sorted',\n",
       " 'staticmethod',\n",
       " 'str',\n",
       " 'sum',\n",
       " 'super',\n",
       " 'tuple',\n",
       " 'type',\n",
       " 'vars',\n",
       " 'zip']"
      ]
     },
     "execution_count": 87,
     "metadata": {},
     "output_type": "execute_result"
    }
   ],
   "source": [
    "dir(globals()['__builtins__'])"
   ]
  },
  {
   "cell_type": "code",
   "execution_count": 93,
   "id": "b97b0b5a-79c9-462a-bb60-0ab472ff9716",
   "metadata": {},
   "outputs": [
    {
     "ename": "NameError",
     "evalue": "name 'weird_name' is not defined",
     "output_type": "error",
     "traceback": [
      "\u001b[0;31m---------------------------------------------------------------------------\u001b[0m",
      "\u001b[0;31mNameError\u001b[0m                                 Traceback (most recent call last)",
      "Cell \u001b[0;32mIn[93], line 1\u001b[0m\n\u001b[0;32m----> 1\u001b[0m \u001b[38;5;28;01mclass\u001b[39;00m \u001b[38;5;21;01mHello\u001b[39;00m:\n\u001b[1;32m      2\u001b[0m     x \u001b[38;5;241m=\u001b[39m \u001b[38;5;241m5\u001b[39m\n\u001b[1;32m      3\u001b[0m     y \u001b[38;5;241m=\u001b[39m x\n",
      "Cell \u001b[0;32mIn[93], line 5\u001b[0m, in \u001b[0;36mHello\u001b[0;34m()\u001b[0m\n\u001b[1;32m      2\u001b[0m x \u001b[38;5;241m=\u001b[39m \u001b[38;5;241m5\u001b[39m\n\u001b[1;32m      3\u001b[0m y \u001b[38;5;241m=\u001b[39m x\n\u001b[0;32m----> 5\u001b[0m new_func \u001b[38;5;241m=\u001b[39m \u001b[43mweird_name\u001b[49m\n\u001b[1;32m      7\u001b[0m \u001b[38;5;28;01mdef\u001b[39;00m \u001b[38;5;21mweird_name\u001b[39m(\u001b[38;5;28mself\u001b[39m):\n\u001b[1;32m      8\u001b[0m     \u001b[38;5;28mprint\u001b[39m(\u001b[38;5;124m'\u001b[39m\u001b[38;5;124mhi\u001b[39m\u001b[38;5;124m'\u001b[39m)\n",
      "\u001b[0;31mNameError\u001b[0m: name 'weird_name' is not defined"
     ]
    }
   ],
   "source": [
    "class Hello:\n",
    "    x = 5\n",
    "    y = x\n",
    "\n",
    "    new_func = weird_name\n",
    "\n",
    "    def weird_name(self):\n",
    "        print('hi')\n",
    "\n"
   ]
  },
  {
   "cell_type": "code",
   "execution_count": 91,
   "id": "aea38b39-640e-430a-86fc-9dc8efb3e83c",
   "metadata": {},
   "outputs": [
    {
     "data": {
      "text/plain": [
       "<bound method my_func of <__main__.Hello object at 0x7fdd051a7be0>>"
      ]
     },
     "execution_count": 91,
     "metadata": {},
     "output_type": "execute_result"
    }
   ],
   "source": [
    "Hello().new_func"
   ]
  },
  {
   "cell_type": "code",
   "execution_count": 94,
   "id": "1dce1ea5-a83f-4566-abc4-ad40ae0699b4",
   "metadata": {},
   "outputs": [
    {
     "data": {
      "text/plain": [
       "<function __main__.myfunc()>"
      ]
     },
     "execution_count": 94,
     "metadata": {},
     "output_type": "execute_result"
    }
   ],
   "source": [
    "myfunc"
   ]
  },
  {
   "cell_type": "code",
   "execution_count": 96,
   "id": "534a6849-6dac-4e6d-a9cc-48f209611d15",
   "metadata": {},
   "outputs": [
    {
     "data": {
      "text/plain": [
       "type"
      ]
     },
     "execution_count": 96,
     "metadata": {},
     "output_type": "execute_result"
    }
   ],
   "source": [
    "type(type(myfunc))"
   ]
  },
  {
   "cell_type": "code",
   "execution_count": 98,
   "id": "6d711a54-6031-4663-b590-3f89ce42db29",
   "metadata": {},
   "outputs": [
    {
     "data": {
      "text/plain": [
       "(object,)"
      ]
     },
     "execution_count": 98,
     "metadata": {},
     "output_type": "execute_result"
    }
   ],
   "source": [
    "MyClass.__bases__"
   ]
  },
  {
   "cell_type": "code",
   "execution_count": 99,
   "id": "c0f40d38-5e59-4e42-a0cb-5cb6e3dabe28",
   "metadata": {},
   "outputs": [],
   "source": [
    "class OtherClass(MyClass):\n",
    "    pass"
   ]
  },
  {
   "cell_type": "code",
   "execution_count": 100,
   "id": "63f5d508-a6be-416d-aba8-bdb0bb4b4e73",
   "metadata": {},
   "outputs": [
    {
     "data": {
      "text/plain": [
       "(__main__.MyClass,)"
      ]
     },
     "execution_count": 100,
     "metadata": {},
     "output_type": "execute_result"
    }
   ],
   "source": [
    "OtherClass.__bases__"
   ]
  },
  {
   "cell_type": "code",
   "execution_count": 111,
   "id": "a56c1101-f47e-40f6-a813-47884a2e5aab",
   "metadata": {},
   "outputs": [
    {
     "data": {
      "text/plain": [
       "()"
      ]
     },
     "execution_count": 111,
     "metadata": {},
     "output_type": "execute_result"
    }
   ],
   "source": [
    "type(OtherClass()).__bases__[0].__bases__[0].__bases__"
   ]
  },
  {
   "cell_type": "code",
   "execution_count": 112,
   "id": "c9329ca0-f54e-4ee2-90a7-419fe92f9601",
   "metadata": {},
   "outputs": [
    {
     "data": {
      "text/plain": [
       "type"
      ]
     },
     "execution_count": 112,
     "metadata": {},
     "output_type": "execute_result"
    }
   ],
   "source": [
    "type(object)"
   ]
  },
  {
   "cell_type": "code",
   "execution_count": 113,
   "id": "ef361292-c66f-4806-9ff3-33e3366603f2",
   "metadata": {},
   "outputs": [
    {
     "data": {
      "text/plain": [
       "module"
      ]
     },
     "execution_count": 113,
     "metadata": {},
     "output_type": "execute_result"
    }
   ],
   "source": [
    "import module_test as mt\n",
    "type(mt)"
   ]
  },
  {
   "cell_type": "code",
   "execution_count": 115,
   "id": "9e22077d-0919-4718-b920-c8c4fde1f5a5",
   "metadata": {},
   "outputs": [
    {
     "data": {
      "text/plain": [
       "type"
      ]
     },
     "execution_count": 115,
     "metadata": {},
     "output_type": "execute_result"
    }
   ],
   "source": [
    "type(object)"
   ]
  },
  {
   "cell_type": "code",
   "execution_count": null,
   "id": "e42c309b-6b4c-4e4f-b740-c0fa78bc449d",
   "metadata": {},
   "outputs": [],
   "source": []
  }
 ],
 "metadata": {
  "kernelspec": {
   "display_name": "Python 3 (ipykernel)",
   "language": "python",
   "name": "python3"
  },
  "language_info": {
   "codemirror_mode": {
    "name": "ipython",
    "version": 3
   },
   "file_extension": ".py",
   "mimetype": "text/x-python",
   "name": "python",
   "nbconvert_exporter": "python",
   "pygments_lexer": "ipython3",
   "version": "3.8.0"
  }
 },
 "nbformat": 4,
 "nbformat_minor": 5
}
