{
 "cells": [
  {
   "cell_type": "code",
   "execution_count": 1,
   "id": "27a7ebb3-d169-4dc9-8e48-dd44a46d6664",
   "metadata": {},
   "outputs": [],
   "source": [
    "%load_ext autoreload\n",
    "%autoreload 2"
   ]
  },
  {
   "cell_type": "code",
   "execution_count": 2,
   "id": "1355f7b8-482b-45f6-b75c-004de216fc35",
   "metadata": {},
   "outputs": [],
   "source": [
    "from os import sys\n",
    "sys.path.append(\"../../code_structure_tools/\")"
   ]
  },
  {
   "cell_type": "markdown",
   "id": "9302507e-4df3-40e5-b11e-7c780351a758",
   "metadata": {},
   "source": [
    "# Testing the partial functions"
   ]
  },
  {
   "cell_type": "code",
   "execution_count": 3,
   "id": "340f88a6-99c6-4390-a67d-32d8258d15a6",
   "metadata": {},
   "outputs": [],
   "source": [
    "import functools_utils as ftu\n",
    "new_func = ftu.partial_example()"
   ]
  },
  {
   "cell_type": "code",
   "execution_count": 7,
   "id": "56dc928f-c3c9-41d1-8fdf-ef09c9f0d231",
   "metadata": {},
   "outputs": [
    {
     "name": "stdout",
     "output_type": "stream",
     "text": [
      "True\n"
     ]
    }
   ],
   "source": [
    "cell = ftu.partialmethod_example()"
   ]
  },
  {
   "cell_type": "code",
   "execution_count": 9,
   "id": "68beac4a-2a5d-4315-a863-dff351b64b90",
   "metadata": {},
   "outputs": [
    {
     "data": {
      "text/plain": [
       "\u001b[0;31mSignature:\u001b[0m      \u001b[0mcell\u001b[0m\u001b[0;34m.\u001b[0m\u001b[0mset_alive\u001b[0m\u001b[0;34m(\u001b[0m\u001b[0;34m)\u001b[0m\u001b[0;34m\u001b[0m\u001b[0;34m\u001b[0m\u001b[0m\n",
       "\u001b[0;31mCall signature:\u001b[0m \u001b[0mcell\u001b[0m\u001b[0;34m.\u001b[0m\u001b[0mset_alive\u001b[0m\u001b[0;34m(\u001b[0m\u001b[0;34m*\u001b[0m\u001b[0margs\u001b[0m\u001b[0;34m,\u001b[0m \u001b[0;34m**\u001b[0m\u001b[0mkwargs\u001b[0m\u001b[0;34m)\u001b[0m\u001b[0;34m\u001b[0m\u001b[0;34m\u001b[0m\u001b[0m\n",
       "\u001b[0;31mType:\u001b[0m           partial\n",
       "\u001b[0;31mString form:\u001b[0m    functools.partial(<bound method partialmethod_example.<locals>.Cell.set_state of <functools_utils.partialmethod_example.<locals>.Cell object at 0x7fc5c5661bb0>>, True)\n",
       "\u001b[0;31mFile:\u001b[0m           /usr/lib/python3.8/functools.py\n",
       "\u001b[0;31mDocstring:\u001b[0m     \n",
       "partial(func, *args, **keywords) - new function with partial application\n",
       "of the given arguments and keywords."
      ]
     },
     "metadata": {},
     "output_type": "display_data"
    }
   ],
   "source": [
    "cell.set_alive?"
   ]
  },
  {
   "cell_type": "code",
   "execution_count": 10,
   "id": "4e30a0a3-dbbe-4e9b-bbd8-7d3fc7d83d9f",
   "metadata": {},
   "outputs": [],
   "source": [
    "def ExampleClass():\n",
    "    pass\n",
    "\n",
    "def dummy_func(x,y):\n",
    "    print(f\"{x}, {y}\")\n",
    "ExampleClass.new_func = dummy_func\n",
    "\n",
    "ex = ExampleClass()"
   ]
  },
  {
   "cell_type": "code",
   "execution_count": 18,
   "id": "ef052134-6d91-4dc7-b7e7-1c0e251bb96e",
   "metadata": {},
   "outputs": [
    {
     "name": "stdout",
     "output_type": "stream",
     "text": [
      "2\n",
      "hihello\n",
      "-5\n",
      "False\n"
     ]
    }
   ],
   "source": [
    "ftu.singledispatch_example()"
   ]
  },
  {
   "cell_type": "code",
   "execution_count": 19,
   "id": "36a2c2af-8cd5-4274-a742-4a1503343f3c",
   "metadata": {},
   "outputs": [
    {
     "data": {
      "text/plain": [
       "\u001b[0;31mSignature:\u001b[0m\n",
       "\u001b[0mupdate_wrapper\u001b[0m\u001b[0;34m(\u001b[0m\u001b[0;34m\u001b[0m\n",
       "\u001b[0;34m\u001b[0m    \u001b[0mwrapper\u001b[0m\u001b[0;34m,\u001b[0m\u001b[0;34m\u001b[0m\n",
       "\u001b[0;34m\u001b[0m    \u001b[0mwrapped\u001b[0m\u001b[0;34m,\u001b[0m\u001b[0;34m\u001b[0m\n",
       "\u001b[0;34m\u001b[0m    \u001b[0massigned\u001b[0m\u001b[0;34m=\u001b[0m\u001b[0;34m(\u001b[0m\u001b[0;34m'__module__'\u001b[0m\u001b[0;34m,\u001b[0m \u001b[0;34m'__name__'\u001b[0m\u001b[0;34m,\u001b[0m \u001b[0;34m'__qualname__'\u001b[0m\u001b[0;34m,\u001b[0m \u001b[0;34m'__doc__'\u001b[0m\u001b[0;34m,\u001b[0m \u001b[0;34m'__annotations__'\u001b[0m\u001b[0;34m)\u001b[0m\u001b[0;34m,\u001b[0m\u001b[0;34m\u001b[0m\n",
       "\u001b[0;34m\u001b[0m    \u001b[0mupdated\u001b[0m\u001b[0;34m=\u001b[0m\u001b[0;34m(\u001b[0m\u001b[0;34m'__dict__'\u001b[0m\u001b[0;34m,\u001b[0m\u001b[0;34m)\u001b[0m\u001b[0;34m,\u001b[0m\u001b[0;34m\u001b[0m\n",
       "\u001b[0;34m\u001b[0m\u001b[0;34m)\u001b[0m\u001b[0;34m\u001b[0m\u001b[0;34m\u001b[0m\u001b[0m\n",
       "\u001b[0;31mDocstring:\u001b[0m\n",
       "Update a wrapper function to look like the wrapped function\n",
       "\n",
       "wrapper is the function to be updated\n",
       "wrapped is the original function\n",
       "assigned is a tuple naming the attributes assigned directly\n",
       "from the wrapped function to the wrapper function (defaults to\n",
       "functools.WRAPPER_ASSIGNMENTS)\n",
       "updated is a tuple naming the attributes of the wrapper that\n",
       "are updated with the corresponding attribute from the wrapped\n",
       "function (defaults to functools.WRAPPER_UPDATES)\n",
       "\u001b[0;31mFile:\u001b[0m      /usr/lib/python3.8/functools.py\n",
       "\u001b[0;31mType:\u001b[0m      function"
      ]
     },
     "metadata": {},
     "output_type": "display_data"
    }
   ],
   "source": [
    "from functools import update_wrapper\n",
    "update_wrapper?"
   ]
  },
  {
   "cell_type": "code",
   "execution_count": 22,
   "id": "e57b0ab2-27f2-4709-be25-8c08c949becf",
   "metadata": {},
   "outputs": [
    {
     "name": "stdout",
     "output_type": "stream",
     "text": [
      "new_func\n",
      "None\n",
      "mult_values\n",
      "values are multiplied\n",
      "        \n"
     ]
    }
   ],
   "source": [
    "ftu.wraps_example()"
   ]
  },
  {
   "cell_type": "code",
   "execution_count": 25,
   "id": "895d07fe-33a4-4e6b-85cc-0414b2f9c0df",
   "metadata": {},
   "outputs": [
    {
     "data": {
      "text/plain": [
       "'values are multiplied\\n    '"
      ]
     },
     "execution_count": 25,
     "metadata": {},
     "output_type": "execute_result"
    }
   ],
   "source": [
    "from functools import partial,update_wrapper\n",
    "\n",
    "def mult_values(a,b):\n",
    "    \"\"\"values are multiplied\n",
    "    \"\"\"\n",
    "    return a*b\n",
    "\n",
    "mult_single = update_wrapper(\n",
    "    partial(mult_values,10),\n",
    "    mult_values)\n",
    "mult_single.__doc__"
   ]
  }
 ],
 "metadata": {
  "kernelspec": {
   "display_name": "Python 3 (ipykernel)",
   "language": "python",
   "name": "python3"
  },
  "language_info": {
   "codemirror_mode": {
    "name": "ipython",
    "version": 3
   },
   "file_extension": ".py",
   "mimetype": "text/x-python",
   "name": "python",
   "nbconvert_exporter": "python",
   "pygments_lexer": "ipython3",
   "version": "3.8.0"
  }
 },
 "nbformat": 4,
 "nbformat_minor": 5
}
