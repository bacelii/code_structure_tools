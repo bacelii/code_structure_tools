{
 "cells": [
  {
   "cell_type": "code",
   "execution_count": 1,
   "id": "f2e6f58a",
   "metadata": {},
   "outputs": [
    {
     "data": {
      "text/plain": [
       "'\\nPurpose: To test the code that\\ngave an example of how to transition from\\nfunctions to a class\\n'"
      ]
     },
     "execution_count": 1,
     "metadata": {},
     "output_type": "execute_result"
    }
   ],
   "source": [
    "\"\"\"\n",
    "Purpose: To test the code that\n",
    "gave an example of how to transition from\n",
    "functions to a class\n",
    "\"\"\""
   ]
  },
  {
   "cell_type": "code",
   "execution_count": 2,
   "id": "d3ae4db0",
   "metadata": {},
   "outputs": [],
   "source": [
    "from code_structure_tools import module_class_transition_example as mct"
   ]
  },
  {
   "cell_type": "code",
   "execution_count": 14,
   "id": "278c7ec2",
   "metadata": {},
   "outputs": [
    {
     "name": "stdout",
     "output_type": "stream",
     "text": [
      "Brendan New Lt lives at 1882 Hidden Glen\n"
     ]
    }
   ],
   "source": [
    "mct.last_name = \"New Lt\"\n",
    "mct.print_personal_info(\"Brendan\")"
   ]
  },
  {
   "cell_type": "code",
   "execution_count": 15,
   "id": "6cbd02c5",
   "metadata": {},
   "outputs": [
    {
     "name": "stdout",
     "output_type": "stream",
     "text": [
      "Brendan New Lt lives at 1882 Hidden Glen, None, None, None\n"
     ]
    }
   ],
   "source": [
    "obj = mct.Person(\"Brendan\")\n",
    "obj.print_personal_info()"
   ]
  },
  {
   "cell_type": "code",
   "execution_count": null,
   "id": "a4c193a0",
   "metadata": {},
   "outputs": [],
   "source": []
  }
 ],
 "metadata": {
  "kernelspec": {
   "display_name": "Python 3 (ipykernel)",
   "language": "python",
   "name": "python3"
  },
  "language_info": {
   "codemirror_mode": {
    "name": "ipython",
    "version": 3
   },
   "file_extension": ".py",
   "mimetype": "text/x-python",
   "name": "python",
   "nbconvert_exporter": "python",
   "pygments_lexer": "ipython3",
   "version": "3.8.0"
  }
 },
 "nbformat": 4,
 "nbformat_minor": 5
}
