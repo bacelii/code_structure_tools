{
 "cells": [
  {
   "cell_type": "code",
   "execution_count": 3,
   "id": "56e227fc-5d1e-46d3-abb7-fe75cb4b1f40",
   "metadata": {},
   "outputs": [],
   "source": [
    "%load_ext autoreload\n",
    "%autoreload 2"
   ]
  },
  {
   "cell_type": "code",
   "execution_count": 4,
   "id": "d406d867-c398-42e0-8779-f42e16a985f1",
   "metadata": {},
   "outputs": [
    {
     "data": {
      "text/plain": [
       "'\\nPurpose: Explore how to convert functions inside of a module\\ninto methods of a class\\n\\nOptions:\\n1) methods that unpack the objects attributes before sending to function\\n2) methods that send the object itself\\n\\n\\n'"
      ]
     },
     "execution_count": 4,
     "metadata": {},
     "output_type": "execute_result"
    }
   ],
   "source": [
    "\"\"\"\n",
    "Purpose: Explore how to convert functions inside of a module\n",
    "into methods of a class\n",
    "\n",
    "Options:\n",
    "1) methods that unpack the objects attributes before sending to function\n",
    "2) methods that send the object itself\n",
    "\n",
    "\n",
    "\"\"\""
   ]
  },
  {
   "cell_type": "code",
   "execution_count": 5,
   "id": "d8c8af7a-ad1c-445b-8f73-5bbd17d66a37",
   "metadata": {},
   "outputs": [],
   "source": [
    "from os import sys\n",
    "sys.path.append(\"../../code_structure_tools/\")"
   ]
  },
  {
   "cell_type": "code",
   "execution_count": 135,
   "id": "428674bc-d47b-4040-a710-3fc78e8c962c",
   "metadata": {},
   "outputs": [
    {
     "name": "stdout",
     "output_type": "stream",
     "text": [
      "5\n",
      "30\n",
      "11\n"
     ]
    }
   ],
   "source": [
    "class NewClass:\n",
    "    id = 10\n",
    "\n",
    "    def print_id(self):\n",
    "        print(id)\n",
    "\n",
    "# how to dynamically create a property\n",
    "NewClass.id_plus_1 = property(lambda self: self.id + 1)\n",
    "\n",
    "# how to dynamically add a function to a class\n",
    "def add_func(x,y):\n",
    "    \"\"\"my example docstring\"\"\"\n",
    "    return x + y\n",
    "\n",
    "from functools import wraps\n",
    "def add_self(func):\n",
    "    @wraps(func)\n",
    "    def inner(self,*args,**kwargs):\n",
    "        return func(*args,**kwargs)\n",
    "\n",
    "    return inner\n",
    "NewClass.my_func = add_self(add_func)\n",
    "\n",
    "b = NewClass()\n",
    "NewClass.x = 5\n",
    "\n",
    "print(b.x)\n",
    "print(b.my_func(10,20))\n",
    "print(b.id_plus_1)"
   ]
  },
  {
   "cell_type": "code",
   "execution_count": 141,
   "id": "a4d9dc83-0893-4587-aaba-4df38da427be",
   "metadata": {},
   "outputs": [
    {
     "name": "stdout",
     "output_type": "stream",
     "text": [
      "<built-in function id>\n"
     ]
    },
    {
     "ename": "TypeError",
     "evalue": "'NoneType' object is not callable",
     "output_type": "error",
     "traceback": [
      "\u001b[0;31m---------------------------------------------------------------------------\u001b[0m",
      "\u001b[0;31mTypeError\u001b[0m                                 Traceback (most recent call last)",
      "Cell \u001b[0;32mIn[141], line 1\u001b[0m\n\u001b[0;32m----> 1\u001b[0m \u001b[43mNewClass\u001b[49m\u001b[43m(\u001b[49m\u001b[43m)\u001b[49m\u001b[38;5;241;43m.\u001b[39;49m\u001b[43mprint_id\u001b[49m\u001b[43m(\u001b[49m\u001b[43m)\u001b[49m\u001b[43m(\u001b[49m\u001b[43m)\u001b[49m\n",
      "\u001b[0;31mTypeError\u001b[0m: 'NoneType' object is not callable"
     ]
    }
   ],
   "source": [
    "NewClass().print_id()()"
   ]
  },
  {
   "cell_type": "markdown",
   "id": "b4065f1e-474e-4f33-9c1b-cc29683be4ee",
   "metadata": {},
   "source": [
    "# how to inspect a function for arguments"
   ]
  },
  {
   "cell_type": "code",
   "execution_count": 112,
   "id": "b0d1e26e-3f36-486f-bc24-c9ee58f32be7",
   "metadata": {},
   "outputs": [
    {
     "data": {
      "text/plain": [
       "['a', 'b', 'c']"
      ]
     },
     "execution_count": 112,
     "metadata": {},
     "output_type": "execute_result"
    }
   ],
   "source": [
    "def myfunc(a,b):\n",
    "    return a*b\n",
    "\n",
    "import inspect\n",
    "[k.name for k in inspect.signature(my_func).parameters.values()]"
   ]
  },
  {
   "cell_type": "code",
   "execution_count": 11,
   "id": "e1903b74-68b2-4bbf-8881-61ed751aae4d",
   "metadata": {},
   "outputs": [],
   "source": [
    "def my_func(a,b,c = 10):\n",
    "    \"\"\"\n",
    "    a current docstring\n",
    "    \"\"\"\n",
    "    return a*b*c"
   ]
  },
  {
   "cell_type": "code",
   "execution_count": 107,
   "id": "78e6629b-00cc-463f-8a07-1b07bf063a92",
   "metadata": {},
   "outputs": [
    {
     "data": {
      "text/plain": [
       "array([], dtype=int64)"
      ]
     },
     "execution_count": 107,
     "metadata": {},
     "output_type": "execute_result"
    }
   ],
   "source": [
    "import numpy as np\n",
    "args = []\n",
    "args_idx = np.arange(len(args)).astype('int')\n",
    "args_idx"
   ]
  },
  {
   "cell_type": "code",
   "execution_count": 14,
   "id": "0f37c50e-9543-4ef6-8294-4777d3d8eea3",
   "metadata": {},
   "outputs": [
    {
     "data": {
      "text/plain": [
       "True"
      ]
     },
     "execution_count": 14,
     "metadata": {},
     "output_type": "execute_result"
    }
   ],
   "source": [
    "import inspect_utils as isu\n",
    "import inspect\n",
    "param_values = isu.parameters_and_defaults_from_func(\n",
    "            my_func\n",
    ")\n"
   ]
  },
  {
   "cell_type": "markdown",
   "id": "dd5cb571-021f-4d07-a14b-dabe6a6e3c6c",
   "metadata": {},
   "source": [
    "# Testing the adding function wrapper"
   ]
  },
  {
   "cell_type": "code",
   "execution_count": null,
   "id": "33be04f9-1504-4292-9632-95ce5ea27ff4",
   "metadata": {},
   "outputs": [],
   "source": [
    "\"\"\"\n",
    "Purpose: to test and see if a module with functions can have\n",
    "its functions reused inside a class\n",
    "\n",
    "Pseudocode: \n",
    "1) Create a module with types of functions\n",
    "2) Create a class that you want to attach functions to\n",
    "3) Use the decorator\n",
    "4) Create a method that will go get functions with certain signatures,\n",
    "    because can then feed them into wrapper\n",
    "\"\"\""
   ]
  },
  {
   "cell_type": "code",
   "execution_count": null,
   "id": "62058e7c-1b2c-4694-adc4-176c4a94f63b",
   "metadata": {},
   "outputs": [],
   "source": [
    "\"\"\"\n",
    "how to shift down args\n",
    "\"\"\""
   ]
  },
  {
   "cell_type": "code",
   "execution_count": 48,
   "id": "08812d0e-995f-4668-a0ba-b567053cdc81",
   "metadata": {},
   "outputs": [],
   "source": [
    "import module_class_transition as mct\n"
   ]
  },
  {
   "cell_type": "code",
   "execution_count": 128,
   "id": "6d6001ef-a9aa-4a14-9e93-d8992ba5c92c",
   "metadata": {},
   "outputs": [
    {
     "name": "stdout",
     "output_type": "stream",
     "text": [
      "Brendan Celii lives at 1882 Hidden Glen\n",
      "obj_name = person\n",
      "adding obj to kwargs\n",
      "kwargs = {'person': <module_class_transition.Person object at 0x7fd1bce5f3d0>, 'other_person': <module_class_transition.Person object at 0x7fd103ffa8b0>}\n",
      "args_new = []\n",
      "Person id 3 (brendan) greets Person id 3 (Shaneka)\n"
     ]
    }
   ],
   "source": [
    "# check that defauult arguments are there\n",
    "mct.last_name = \"Bobby\"\n",
    "mct.print_personal_info(\"Brendan\",\"Celii\")\n",
    "p2 = mct.Person(\"Shaneka\")\n",
    "p.two_person_greeting(p2)"
   ]
  },
  {
   "cell_type": "code",
   "execution_count": 129,
   "id": "59a691ee-d61f-4424-a952-f2dbb6f30b2e",
   "metadata": {},
   "outputs": [],
   "source": [
    "# testing out class with default behavior\n",
    "mct.last_name = \"Billy\"\n",
    "p = mct.Person(\"brendan\",address = \"1779 Hidden Glen, Dallas, Tx, 99801\")"
   ]
  },
  {
   "cell_type": "code",
   "execution_count": 132,
   "id": "8a5eed1b-0f6c-4979-b12b-f1c65621028b",
   "metadata": {},
   "outputs": [
    {
     "name": "stdout",
     "output_type": "stream",
     "text": [
      "1779 Hidden Glen\n",
      "Dallas\n",
      "Tx\n",
      "99801\n"
     ]
    }
   ],
   "source": [
    "print(p.address_obj.address_pretty)"
   ]
  },
  {
   "cell_type": "code",
   "execution_count": 94,
   "id": "54d003d0-c4b2-4d27-96ce-c64ab3cb8101",
   "metadata": {},
   "outputs": [
    {
     "name": "stdout",
     "output_type": "stream",
     "text": [
      "obj_name = None\n"
     ]
    },
    {
     "data": {
      "text/plain": [
       "['address',\n",
       " 'address_obj',\n",
       " 'alias_objects',\n",
       " 'count',\n",
       " 'first_name',\n",
       " 'hourly_rate',\n",
       " 'last_name']"
      ]
     },
     "execution_count": 94,
     "metadata": {},
     "output_type": "execute_result"
    }
   ],
   "source": [
    "#checking that all the functions were added\n",
    "import object_utils as obju\n",
    "obju.attributes_in_object(p)"
   ]
  },
  {
   "cell_type": "code",
   "execution_count": 95,
   "id": "09cae50b-c020-479d-824d-c5b9d65c05e4",
   "metadata": {},
   "outputs": [
    {
     "name": "stdout",
     "output_type": "stream",
     "text": [
      "obj_name = None\n"
     ]
    },
    {
     "data": {
      "text/plain": [
       "['calculate_salary',\n",
       " 'print_greeting',\n",
       " 'print_hi',\n",
       " 'print_personal_info',\n",
       " 'two_person_greeting']"
      ]
     },
     "execution_count": 95,
     "metadata": {},
     "output_type": "execute_result"
    }
   ],
   "source": [
    "import function_utils as fu\n",
    "fu.functions_in_object(p)"
   ]
  },
  {
   "cell_type": "code",
   "execution_count": 96,
   "id": "8826768d-e4de-4633-854c-9a3df0b61f1b",
   "metadata": {},
   "outputs": [
    {
     "data": {
      "text/plain": [
       "-2000"
      ]
     },
     "execution_count": 96,
     "metadata": {},
     "output_type": "execute_result"
    }
   ],
   "source": [
    "p.hourly_rate = -1\n",
    "#mct.hours_per_week = 40\n",
    "p.calculate_salary()"
   ]
  },
  {
   "cell_type": "code",
   "execution_count": 97,
   "id": "63c009c0-9b53-4d13-ad67-05dfbd0bac13",
   "metadata": {},
   "outputs": [
    {
     "data": {
      "text/plain": [
       "'\\n    docstring for calculate salary\\n    '"
      ]
     },
     "execution_count": 97,
     "metadata": {},
     "output_type": "execute_result"
    }
   ],
   "source": [
    "p.calculate_salary.__doc__"
   ]
  },
  {
   "cell_type": "code",
   "execution_count": 99,
   "id": "014af934-3824-4e2e-b10f-34655fb10bd3",
   "metadata": {},
   "outputs": [
    {
     "name": "stdout",
     "output_type": "stream",
     "text": [
      "obj_name = None\n"
     ]
    },
    {
     "data": {
      "text/plain": [
       "'1779 Hidden Glen\\nDallas\\nTx\\n99801'"
      ]
     },
     "execution_count": 99,
     "metadata": {},
     "output_type": "execute_result"
    }
   ],
   "source": [
    "p.address_obj.address_pretty"
   ]
  },
  {
   "cell_type": "code",
   "execution_count": 100,
   "id": "238ebfbe-b8ee-49cc-8421-87df8ab834d8",
   "metadata": {},
   "outputs": [
    {
     "name": "stdout",
     "output_type": "stream",
     "text": [
      "hi Bob\n"
     ]
    }
   ],
   "source": [
    "p.print_greeting()"
   ]
  },
  {
   "cell_type": "code",
   "execution_count": 102,
   "id": "69c68b07-51ad-40d3-b097-1d280d16777a",
   "metadata": {},
   "outputs": [
    {
     "ename": "TypeError",
     "evalue": "two_person_greeting() got multiple values for argument 'person'",
     "output_type": "error",
     "traceback": [
      "\u001b[0;31m---------------------------------------------------------------------------\u001b[0m",
      "\u001b[0;31mTypeError\u001b[0m                                 Traceback (most recent call last)",
      "Cell \u001b[0;32mIn[102], line 2\u001b[0m\n\u001b[1;32m      1\u001b[0m p2 \u001b[38;5;241m=\u001b[39m mct\u001b[38;5;241m.\u001b[39mPerson(\u001b[38;5;124m\"\u001b[39m\u001b[38;5;124mShaneka\u001b[39m\u001b[38;5;124m\"\u001b[39m)\n\u001b[0;32m----> 2\u001b[0m \u001b[43mp\u001b[49m\u001b[38;5;241;43m.\u001b[39;49m\u001b[43mtwo_person_greeting\u001b[49m\u001b[43m(\u001b[49m\u001b[43mp2\u001b[49m\u001b[43m)\u001b[49m\n",
      "File \u001b[0;32m/neurd_packages/code_structure_tools/code_structure_tools/decorators.py:200\u001b[0m, in \u001b[0;36msend_obj_to_function.<locals>.new_func\u001b[0;34m(self, *args, **kwargs)\u001b[0m\n\u001b[1;32m    198\u001b[0m \u001b[38;5;28;01melse\u001b[39;00m:\n\u001b[1;32m    199\u001b[0m     kwargs[obj_name] \u001b[38;5;241m=\u001b[39m \u001b[38;5;28mself\u001b[39m\n\u001b[0;32m--> 200\u001b[0m \u001b[38;5;28;01mreturn\u001b[39;00m \u001b[43mf\u001b[49m\u001b[43m(\u001b[49m\u001b[38;5;241;43m*\u001b[39;49m\u001b[43margs\u001b[49m\u001b[43m,\u001b[49m\u001b[38;5;241;43m*\u001b[39;49m\u001b[38;5;241;43m*\u001b[39;49m\u001b[43mkwargs\u001b[49m\u001b[43m)\u001b[49m\n",
      "\u001b[0;31mTypeError\u001b[0m: two_person_greeting() got multiple values for argument 'person'"
     ]
    }
   ],
   "source": []
  },
  {
   "cell_type": "markdown",
   "id": "de3aed80-b0f9-45d4-ae14-d0f84cce91cc",
   "metadata": {},
   "source": [
    "# Try type hinting"
   ]
  },
  {
   "cell_type": "code",
   "execution_count": 134,
   "id": "40251aa6-bbdc-49ab-af9f-ebe29183d5d1",
   "metadata": {},
   "outputs": [
    {
     "data": {
      "text/plain": [
       "38.5"
      ]
     },
     "execution_count": 134,
     "metadata": {},
     "output_type": "execute_result"
    }
   ],
   "source": [
    "def myfunc(a: int, b: int):\n",
    "    return a*b\n",
    "\n",
    "myfunc(15.4,2.5)"
   ]
  },
  {
   "cell_type": "code",
   "execution_count": 142,
   "id": "00f13b21-e8f7-4059-a141-ace3b7f92e42",
   "metadata": {},
   "outputs": [],
   "source": [
    "x = 10"
   ]
  },
  {
   "cell_type": "code",
   "execution_count": 144,
   "id": "b427aae7-497a-4708-8a72-84289bdd1f82",
   "metadata": {},
   "outputs": [
    {
     "data": {
      "text/plain": [
       "['__abs__',\n",
       " '__add__',\n",
       " '__and__',\n",
       " '__bool__',\n",
       " '__ceil__',\n",
       " '__class__',\n",
       " '__delattr__',\n",
       " '__dir__',\n",
       " '__divmod__',\n",
       " '__doc__',\n",
       " '__eq__',\n",
       " '__float__',\n",
       " '__floor__',\n",
       " '__floordiv__',\n",
       " '__format__',\n",
       " '__ge__',\n",
       " '__getattribute__',\n",
       " '__getnewargs__',\n",
       " '__gt__',\n",
       " '__hash__',\n",
       " '__index__',\n",
       " '__init__',\n",
       " '__init_subclass__',\n",
       " '__int__',\n",
       " '__invert__',\n",
       " '__le__',\n",
       " '__lshift__',\n",
       " '__lt__',\n",
       " '__mod__',\n",
       " '__mul__',\n",
       " '__ne__',\n",
       " '__neg__',\n",
       " '__new__',\n",
       " '__or__',\n",
       " '__pos__',\n",
       " '__pow__',\n",
       " '__radd__',\n",
       " '__rand__',\n",
       " '__rdivmod__',\n",
       " '__reduce__',\n",
       " '__reduce_ex__',\n",
       " '__repr__',\n",
       " '__rfloordiv__',\n",
       " '__rlshift__',\n",
       " '__rmod__',\n",
       " '__rmul__',\n",
       " '__ror__',\n",
       " '__round__',\n",
       " '__rpow__',\n",
       " '__rrshift__',\n",
       " '__rshift__',\n",
       " '__rsub__',\n",
       " '__rtruediv__',\n",
       " '__rxor__',\n",
       " '__setattr__',\n",
       " '__sizeof__',\n",
       " '__str__',\n",
       " '__sub__',\n",
       " '__subclasshook__',\n",
       " '__truediv__',\n",
       " '__trunc__',\n",
       " '__xor__',\n",
       " 'as_integer_ratio',\n",
       " 'bit_length',\n",
       " 'conjugate',\n",
       " 'denominator',\n",
       " 'from_bytes',\n",
       " 'imag',\n",
       " 'numerator',\n",
       " 'real',\n",
       " 'to_bytes']"
      ]
     },
     "execution_count": 144,
     "metadata": {},
     "output_type": "execute_result"
    }
   ],
   "source": [
    "dir(x)"
   ]
  },
  {
   "cell_type": "code",
   "execution_count": 152,
   "id": "260e3ca1-af43-4e5f-8c56-80d58065d5a6",
   "metadata": {},
   "outputs": [
    {
     "data": {
      "text/plain": [
       "['__doc__', '__name__', '__qualname__', '__self__', '__text_signature__']"
      ]
     },
     "execution_count": 152,
     "metadata": {},
     "output_type": "execute_result"
    }
   ],
   "source": [
    "obj = \"hello\".__repr__ \n",
    "[k for k in dir(obj) if not callable(getattr(obj,k))]"
   ]
  },
  {
   "cell_type": "code",
   "execution_count": 154,
   "id": "640d1fda-88ca-4ae4-a9c6-35f8a042cfcc",
   "metadata": {},
   "outputs": [
    {
     "data": {
      "text/plain": [
       "['__abs__',\n",
       " '__add__',\n",
       " '__and__',\n",
       " '__bool__',\n",
       " '__ceil__',\n",
       " '__class__',\n",
       " '__delattr__',\n",
       " '__dir__',\n",
       " '__divmod__',\n",
       " '__doc__',\n",
       " '__eq__',\n",
       " '__float__',\n",
       " '__floor__',\n",
       " '__floordiv__',\n",
       " '__format__',\n",
       " '__ge__',\n",
       " '__getattribute__',\n",
       " '__getnewargs__',\n",
       " '__gt__',\n",
       " '__hash__',\n",
       " '__index__',\n",
       " '__init__',\n",
       " '__init_subclass__',\n",
       " '__int__',\n",
       " '__invert__',\n",
       " '__le__',\n",
       " '__lshift__',\n",
       " '__lt__',\n",
       " '__mod__',\n",
       " '__mul__',\n",
       " '__ne__',\n",
       " '__neg__',\n",
       " '__new__',\n",
       " '__or__',\n",
       " '__pos__',\n",
       " '__pow__',\n",
       " '__radd__',\n",
       " '__rand__',\n",
       " '__rdivmod__',\n",
       " '__reduce__',\n",
       " '__reduce_ex__',\n",
       " '__repr__',\n",
       " '__rfloordiv__',\n",
       " '__rlshift__',\n",
       " '__rmod__',\n",
       " '__rmul__',\n",
       " '__ror__',\n",
       " '__round__',\n",
       " '__rpow__',\n",
       " '__rrshift__',\n",
       " '__rshift__',\n",
       " '__rsub__',\n",
       " '__rtruediv__',\n",
       " '__rxor__',\n",
       " '__setattr__',\n",
       " '__sizeof__',\n",
       " '__str__',\n",
       " '__sub__',\n",
       " '__subclasshook__',\n",
       " '__truediv__',\n",
       " '__trunc__',\n",
       " '__xor__',\n",
       " 'as_integer_ratio',\n",
       " 'bit_length',\n",
       " 'conjugate',\n",
       " 'denominator',\n",
       " 'from_bytes',\n",
       " 'imag',\n",
       " 'numerator',\n",
       " 'real',\n",
       " 'to_bytes']"
      ]
     },
     "execution_count": 154,
     "metadata": {},
     "output_type": "execute_result"
    }
   ],
   "source": [
    "dir(int)"
   ]
  },
  {
   "cell_type": "code",
   "execution_count": 156,
   "id": "9d84b370-e3db-4b3b-8f33-c062450901a0",
   "metadata": {},
   "outputs": [],
   "source": [
    "class MyClass:\n",
    "    def func(self):\n",
    "        pass\n",
    "    x = 10"
   ]
  },
  {
   "cell_type": "code",
   "execution_count": 163,
   "id": "dcb80ab1-c633-4da9-b835-fc93519353d7",
   "metadata": {},
   "outputs": [
    {
     "ename": "SyntaxError",
     "evalue": "invalid syntax (1288702947.py, line 1)",
     "output_type": "error",
     "traceback": [
      "\u001b[0;36m  Cell \u001b[0;32mIn[163], line 1\u001b[0;36m\u001b[0m\n\u001b[0;31m    x = 5.real\u001b[0m\n\u001b[0m          ^\u001b[0m\n\u001b[0;31mSyntaxError\u001b[0m\u001b[0;31m:\u001b[0m invalid syntax\n"
     ]
    }
   ],
   "source": [
    "x = 5.real"
   ]
  },
  {
   "cell_type": "code",
   "execution_count": 160,
   "id": "ef5246fc-c3a3-41e5-950d-cbef5dfc6819",
   "metadata": {},
   "outputs": [],
   "source": [
    "x = 5"
   ]
  },
  {
   "cell_type": "code",
   "execution_count": 164,
   "id": "07a22c54-1c45-4f29-97d3-428411c3854f",
   "metadata": {},
   "outputs": [
    {
     "data": {
      "text/plain": [
       "['__abs__',\n",
       " '__add__',\n",
       " '__and__',\n",
       " '__bool__',\n",
       " '__ceil__',\n",
       " '__class__',\n",
       " '__delattr__',\n",
       " '__dir__',\n",
       " '__divmod__',\n",
       " '__doc__',\n",
       " '__eq__',\n",
       " '__float__',\n",
       " '__floor__',\n",
       " '__floordiv__',\n",
       " '__format__',\n",
       " '__ge__',\n",
       " '__getattribute__',\n",
       " '__getnewargs__',\n",
       " '__gt__',\n",
       " '__hash__',\n",
       " '__index__',\n",
       " '__init__',\n",
       " '__init_subclass__',\n",
       " '__int__',\n",
       " '__invert__',\n",
       " '__le__',\n",
       " '__lshift__',\n",
       " '__lt__',\n",
       " '__mod__',\n",
       " '__mul__',\n",
       " '__ne__',\n",
       " '__neg__',\n",
       " '__new__',\n",
       " '__or__',\n",
       " '__pos__',\n",
       " '__pow__',\n",
       " '__radd__',\n",
       " '__rand__',\n",
       " '__rdivmod__',\n",
       " '__reduce__',\n",
       " '__reduce_ex__',\n",
       " '__repr__',\n",
       " '__rfloordiv__',\n",
       " '__rlshift__',\n",
       " '__rmod__',\n",
       " '__rmul__',\n",
       " '__ror__',\n",
       " '__round__',\n",
       " '__rpow__',\n",
       " '__rrshift__',\n",
       " '__rshift__',\n",
       " '__rsub__',\n",
       " '__rtruediv__',\n",
       " '__rxor__',\n",
       " '__setattr__',\n",
       " '__sizeof__',\n",
       " '__str__',\n",
       " '__sub__',\n",
       " '__subclasshook__',\n",
       " '__truediv__',\n",
       " '__trunc__',\n",
       " '__xor__',\n",
       " 'as_integer_ratio',\n",
       " 'bit_length',\n",
       " 'conjugate',\n",
       " 'denominator',\n",
       " 'from_bytes',\n",
       " 'imag',\n",
       " 'numerator',\n",
       " 'real',\n",
       " 'to_bytes']"
      ]
     },
     "execution_count": 164,
     "metadata": {},
     "output_type": "execute_result"
    }
   ],
   "source": [
    "dir(x)"
   ]
  },
  {
   "cell_type": "code",
   "execution_count": 165,
   "id": "27bb696d-3c68-4bf2-97e6-f0797129a9bd",
   "metadata": {},
   "outputs": [
    {
     "data": {
      "text/plain": [
       "type"
      ]
     },
     "execution_count": 165,
     "metadata": {},
     "output_type": "execute_result"
    }
   ],
   "source": [
    "type(MyClass)"
   ]
  },
  {
   "cell_type": "code",
   "execution_count": 166,
   "id": "7f75ce6a-b826-4a6f-b5a1-787361ae2c70",
   "metadata": {},
   "outputs": [
    {
     "data": {
      "text/plain": [
       "function"
      ]
     },
     "execution_count": 166,
     "metadata": {},
     "output_type": "execute_result"
    }
   ],
   "source": [
    "def myfunc():\n",
    "    pass\n",
    "\n",
    "type(myfunc)"
   ]
  },
  {
   "cell_type": "code",
   "execution_count": 168,
   "id": "2db7ae63-b35e-474d-ab18-de2d00d02e4d",
   "metadata": {},
   "outputs": [
    {
     "data": {
      "text/plain": [
       "True"
      ]
     },
     "execution_count": 168,
     "metadata": {},
     "output_type": "execute_result"
    }
   ],
   "source": [
    "mc = MyClass()\n",
    "type(mc) == MyClass"
   ]
  },
  {
   "cell_type": "code",
   "execution_count": 172,
   "id": "872b7110-4b2e-4716-bc60-814858de7497",
   "metadata": {},
   "outputs": [
    {
     "data": {
      "text/plain": [
       "type"
      ]
     },
     "execution_count": 172,
     "metadata": {},
     "output_type": "execute_result"
    }
   ],
   "source": [
    "x = type(myfunc)\n",
    "type(x)"
   ]
  },
  {
   "cell_type": "code",
   "execution_count": 175,
   "id": "f32e09d5-81bf-44f6-8275-841d7b781c92",
   "metadata": {},
   "outputs": [
    {
     "data": {
      "text/plain": [
       "type"
      ]
     },
     "execution_count": 175,
     "metadata": {},
     "output_type": "execute_result"
    }
   ],
   "source": [
    "type(type(int(5)))"
   ]
  },
  {
   "cell_type": "code",
   "execution_count": null,
   "id": "2143f7ca-e1fb-4733-9611-f1d90f759cb7",
   "metadata": {},
   "outputs": [],
   "source": []
  }
 ],
 "metadata": {
  "kernelspec": {
   "display_name": "Python 3 (ipykernel)",
   "language": "python",
   "name": "python3"
  },
  "language_info": {
   "codemirror_mode": {
    "name": "ipython",
    "version": 3
   },
   "file_extension": ".py",
   "mimetype": "text/x-python",
   "name": "python",
   "nbconvert_exporter": "python",
   "pygments_lexer": "ipython3",
   "version": "3.8.0"
  }
 },
 "nbformat": 4,
 "nbformat_minor": 5
}
