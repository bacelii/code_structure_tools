{
 "cells": [
  {
   "cell_type": "code",
   "execution_count": 3,
   "id": "8ccae8d4",
   "metadata": {},
   "outputs": [
    {
     "name": "stdout",
     "output_type": "stream",
     "text": [
      "The autoreload extension is already loaded. To reload it, use:\n",
      "  %reload_ext autoreload\n"
     ]
    }
   ],
   "source": [
    "%load_ext autoreload\n",
    "%autoreload 2"
   ]
  },
  {
   "cell_type": "code",
   "execution_count": 4,
   "id": "7f3822f4",
   "metadata": {},
   "outputs": [],
   "source": [
    "import datasci_tools"
   ]
  },
  {
   "cell_type": "markdown",
   "id": "7f2a5e68",
   "metadata": {},
   "source": [
    "# Creating Requirements"
   ]
  },
  {
   "cell_type": "code",
   "execution_count": 6,
   "id": "b8963870",
   "metadata": {},
   "outputs": [
    {
     "name": "stdout",
     "output_type": "stream",
     "text": [
      "Jupyter environment detected. Enabling Open3D WebVisualizer.\n",
      "[Open3D INFO] WebRTC GUI backend enabled.\n",
      "[Open3D INFO] WebRTCWindowSystem: HTTP handshake server disabled.\n"
     ]
    }
   ],
   "source": [
    "from datasci_tools import requirement_utils as requ"
   ]
  },
  {
   "cell_type": "code",
   "execution_count": 7,
   "id": "56282824",
   "metadata": {},
   "outputs": [],
   "source": [
    "# from pathlib import Path\n",
    "# from datasci_tools import package_utils as pku\n",
    "# code_path = Path(\"../code_structure_tools/\").absolute()\n",
    "# pku.module_files_from_directory(code_path)"
   ]
  },
  {
   "cell_type": "code",
   "execution_count": null,
   "id": "5a63e56c",
   "metadata": {},
   "outputs": [],
   "source": []
  },
  {
   "cell_type": "code",
   "execution_count": 10,
   "id": "002392a7",
   "metadata": {},
   "outputs": [
    {
     "name": "stderr",
     "output_type": "stream",
     "text": [
      "\r",
      "  0%|          | 0/1 [00:00<?, ?it/s]"
     ]
    },
    {
     "name": "stdout",
     "output_type": "stream",
     "text": [
      "command = pipreqs --encoding=utf8 --force ../code_structure_tools/ --ignore=../code_structure_tools/__pycache__ --mode gt --savepath /neurd_packages/code_structure_tools/Documentation/requirements.txt\n"
     ]
    },
    {
     "name": "stderr",
     "output_type": "stream",
     "text": [
      "INFO: Successfully saved requirements file in /neurd_packages/code_structure_tools/Documentation/requirements.txt\n",
      "100%|██████████| 1/1 [00:01<00:00,  1.69s/it]"
     ]
    },
    {
     "name": "stdout",
     "output_type": "stream",
     "text": [
      "Package Diff: ['decorators' 'function_utils' 'functools' 'inspect' 'math' 'module_utils'\n",
      " 'object_utils' 'operator' 'sys' 'test' 'types']\n"
     ]
    },
    {
     "name": "stderr",
     "output_type": "stream",
     "text": [
      "\n"
     ]
    },
    {
     "data": {
      "text/plain": [
       "{'../code_structure_tools/': {'numpy': '1.24.4',\n",
       "  'ipython': None,\n",
       "  'ipython_genutils': None}}"
      ]
     },
     "execution_count": 10,
     "metadata": {},
     "output_type": "execute_result"
    }
   ],
   "source": [
    "from pathlib import Path\n",
    "req_dict = requ.requirements_dict_from_directories(\n",
    "    directories=(\"../code_structure_tools/\",),\n",
    "    output_directory = Path(\"./\").absolute(),\n",
    "    verbose = True,\n",
    "    output_to_package_directory = False\n",
    ")\n",
    "\n",
    "req_dict"
   ]
  },
  {
   "cell_type": "markdown",
   "id": "2372118d",
   "metadata": {},
   "source": [
    "# Creating setup.py"
   ]
  },
  {
   "cell_type": "code",
   "execution_count": 12,
   "id": "8ce310fd",
   "metadata": {},
   "outputs": [],
   "source": [
    "import datasci_tools"
   ]
  },
  {
   "cell_type": "code",
   "execution_count": 13,
   "id": "44883114",
   "metadata": {},
   "outputs": [
    {
     "data": {
      "text/plain": [
       "['List',\n",
       " 'Path',\n",
       " '__builtins__',\n",
       " '__cached__',\n",
       " '__doc__',\n",
       " '__file__',\n",
       " '__loader__',\n",
       " '__name__',\n",
       " '__package__',\n",
       " '__spec__',\n",
       " 'filu',\n",
       " 'find_packages',\n",
       " 'get_install_requires',\n",
       " 'get_links',\n",
       " 'iu',\n",
       " 'setup',\n",
       " 'setup_py_str',\n",
       " 'setup_py_str_generator']"
      ]
     },
     "execution_count": 13,
     "metadata": {},
     "output_type": "execute_result"
    }
   ],
   "source": [
    "from datasci_tools import setup_py_utils as setu\n",
    "dir(setu)"
   ]
  },
  {
   "cell_type": "code",
   "execution_count": 15,
   "id": "a5602186",
   "metadata": {},
   "outputs": [
    {
     "data": {
      "text/plain": [
       "'from pathlib import Path\\nfrom setuptools import setup, find_packages\\nfrom typing import List\\n\\ndef get_install_requires(filepath=None):\\n    if filepath is None:\\n        filepath = \"./\"\\n    \"\"\"Returns requirements.txt parsed to a list\"\"\"\\n    fname = Path(filepath).parent / \\'requirements.txt\\'\\n    targets = []\\n    if fname.exists():\\n        with open(fname, \\'r\\') as f:\\n            targets = f.read().splitlines()\\n            \\n    targets += get_links()\\n    return targets\\n\\ndef get_links():\\n    return [\\n        #\"datasci_tools @ git+https://github.com/bacelii/datasci_tools.git\\'\"\\n    ]\\n\\n\\n\\nsetup(\\n    name=\\'code_struture_tools\\', # the name of the package, which can be different than the folder when using pip instal\\n    version=\\'1.0.0\\',\\n    description=\\'\\',\\n    author=\\'Brendan Celii\\',\\n    author_email=\\'brendanacelii\\',\\n    packages=find_packages(),  #teslls what packages to be included for the install\\n    install_requires=get_install_requires(), #external packages as dependencies\\n    # dependency_links = get_links(),\\n    # if wanted to install with the extra requirements use pip install -e \".[interactive]\"\\n    extras_require={\\n        #\\'interactive\\': [\\'matplotlib>=2.2.0\\', \\'jupyter\\'],\\n    },\\n    \\n    # if have a python script that wants to be run from the command line\\n    entry_points={\\n        #\\'console_scripts\\': [\\'pipeline_download=Applications.Eleox_Data_Fetch.Eleox_Data_Fetcher_vp1:main\\']\\n    },\\n    scripts=[], \\n    \\n)\\n\\n'"
      ]
     },
     "execution_count": 15,
     "metadata": {},
     "output_type": "execute_result"
    }
   ],
   "source": [
    "setu.setup_py_str_generator(\n",
    "    name = \"code_struture_tools\",\n",
    "    output_path=\"../setup.py\"\n",
    ")"
   ]
  },
  {
   "cell_type": "code",
   "execution_count": null,
   "id": "734e9614",
   "metadata": {},
   "outputs": [],
   "source": []
  }
 ],
 "metadata": {
  "kernelspec": {
   "display_name": "Python 3 (ipykernel)",
   "language": "python",
   "name": "python3"
  },
  "language_info": {
   "codemirror_mode": {
    "name": "ipython",
    "version": 3
   },
   "file_extension": ".py",
   "mimetype": "text/x-python",
   "name": "python",
   "nbconvert_exporter": "python",
   "pygments_lexer": "ipython3",
   "version": "3.8.0"
  }
 },
 "nbformat": 4,
 "nbformat_minor": 5
}
